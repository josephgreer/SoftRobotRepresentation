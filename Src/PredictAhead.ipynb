{
 "cells": [
  {
   "cell_type": "code",
   "execution_count": 1,
   "metadata": {
    "collapsed": false
   },
   "outputs": [
    {
     "name": "stderr",
     "output_type": "stream",
     "text": [
      "Using TensorFlow backend.\n"
     ]
    }
   ],
   "source": [
    "%matplotlib inline\n",
    "import Constants as C\n",
    "from MakeModels import *\n",
    "encoder = makeEncoder(C.batchSz)\n",
    "decoder = makeDecoder()\n",
    "autoencoder = makeAutoencoder(encoder,decoder)\n",
    "\n",
    "autoencoder.load_weights('/home/ubuntu/SoftRobotRepresentation/ModelPrettyGoodBottleneck25.h5', by_name=True)"
   ]
  },
  {
   "cell_type": "code",
   "execution_count": 4,
   "metadata": {
    "collapsed": false
   },
   "outputs": [
    {
     "name": "stdout",
     "output_type": "stream",
     "text": [
      "(None, 25)\n",
      "(None, 2)\n"
     ]
    }
   ],
   "source": [
    "from keras.layers import Lambda,merge, Deconvolution2D, UpSampling2D, Convolution2D, MaxPooling2D, Input, Dense, Flatten, Merge, BatchNormalization, LeakyReLU, LSTM\n",
    "from keras.models import Model\n",
    "from keras import backend as K\n",
    "from MakeModels import *\n",
    "import os\n",
    "import Constants as C\n",
    "\n",
    "nWindow = 4\n",
    "pInput = Input(shape=(nWindow*2,))\n",
    "\n",
    "y = encoder(imageInput)\n",
    "y = Lambda(squeezeTwice)(y)\n",
    "#y = Flatten()(y)\n",
    "print K.int_shape(y)\n",
    "x = merge([pInput,y],mode='concat')\n",
    "x = Dense(32)(x)\n",
    "x = LeakyReLU(alpha=0.2)(x)\n",
    "x = Dense(2)(x)\n",
    "print K.int_shape(x)\n",
    "yep = Model([pInput,imageInput],x)"
   ]
  },
  {
   "cell_type": "code",
   "execution_count": null,
   "metadata": {
    "collapsed": true
   },
   "outputs": [],
   "source": []
  }
 ],
 "metadata": {
  "kernelspec": {
   "display_name": "venv3",
   "language": "python",
   "name": "venv"
  },
  "language_info": {
   "codemirror_mode": {
    "name": "ipython",
    "version": 2
   },
   "file_extension": ".py",
   "mimetype": "text/x-python",
   "name": "python",
   "nbconvert_exporter": "python",
   "pygments_lexer": "ipython2",
   "version": "2.7.6"
  }
 },
 "nbformat": 4,
 "nbformat_minor": 1
}
