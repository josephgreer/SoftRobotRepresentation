{
 "cells": [
  {
   "cell_type": "code",
   "execution_count": 1,
   "metadata": {
    "collapsed": false
   },
   "outputs": [
    {
     "name": "stderr",
     "output_type": "stream",
     "text": [
      "Using TensorFlow backend.\n"
     ]
    }
   ],
   "source": [
    "%matplotlib inline\n",
    "timeSz = 32\n",
    "from MakeModels import *\n",
    "encoder = makeEncoder(timeSz)\n",
    "decoder = makeDecoder()\n",
    "autoencoder = makeAutoencoder(encoder,decoder)\n",
    "\n",
    "autoencoder.load_weights('/home/ubuntu/SoftRobotRepresentation/ModelPrettyGoodBottleneck25.h5', by_name=True)\n",
    "\n",
    "nFeatures = autoencoder.layers[-2].output_shape[-1]+4"
   ]
  },
  {
   "cell_type": "code",
   "execution_count": 2,
   "metadata": {
    "collapsed": false
   },
   "outputs": [
    {
     "name": "stderr",
     "output_type": "stream",
     "text": [
      "\r",
      "  0%|          | 0/1650 [00:00<?, ?it/s]"
     ]
    },
    {
     "name": "stdout",
     "output_type": "stream",
     "text": [
      "(52850, 2) (22650, 2)\n"
     ]
    },
    {
     "name": "stderr",
     "output_type": "stream",
     "text": [
      "100%|██████████| 1650/1650 [04:24<00:00,  6.23it/s]\n",
      "100%|██████████| 706/706 [01:48<00:00,  6.49it/s]\n"
     ]
    }
   ],
   "source": [
    "## Let's test some learning rates\n",
    "import numpy as np\n",
    "from numpy import random\n",
    "import math\n",
    "from tqdm import tqdm\n",
    "from IPython.core.debugger import Pdb\n",
    "from matplotlib import pyplot as plt\n",
    "import Constants as C\n",
    "\n",
    "import pandas as pd\n",
    "\n",
    "\n",
    "numEpochs = 50\n",
    "numBatchesPerEpoch = 1000\n",
    "nValBatches = 100\n",
    "\n",
    "trainPath = \"/home/ubuntu/SoftRobotRepresentation/Data/Training/0/\"\n",
    "valPath = \"/home/ubuntu/SoftRobotRepresentation/Data/Validation/0/\"\n",
    "\n",
    "positionFiles = ['/home/ubuntu/SoftRobotRepresentation/Data/recordingRight.csv',\n",
    "                 '/home/ubuntu/SoftRobotRepresentation/Data/recordingRight2.csv']\n",
    "\n",
    "numFramesTrain = [21420,31430]\n",
    "numFramesVal = [9180,13470]\n",
    "numFrames = [e+f for e,f in zip(numFramesTrain,numFramesVal)]\n",
    "\n",
    "posTables = [pd.read_csv(e) for e in positionFiles]\n",
    "\n",
    "positionDataTrain = np.empty(shape=(0,2))\n",
    "positionDataVal = np.empty(shape=(0,2))\n",
    "for i in range(len(positionFiles)):\n",
    "    positionData = posTables[i].as_matrix(columns=['x(m)','y(m)'])\n",
    "    positionDataTrain = np.concatenate((positionDataTrain,positionData[:numFramesTrain[i],:]))\n",
    "    positionDataVal = np.concatenate((positionDataVal,positionData[numFramesTrain[i]:numFrames[i],:]))\n",
    "    \n",
    "print str(positionDataTrain.shape) +\" \" + str(positionDataVal.shape)\n",
    "\n",
    "paths = [trainPath,valPath]\n",
    "positionDatas = [positionDataTrain, positionDataVal]\n",
    "savePaths = ['/home/ubuntu/SoftRobotRepresentation/Data/trainFeats','/home/ubuntu/SoftRobotRepresentation/Data/valFeats.npy']\n",
    "\n",
    "for idx,path in enumerate(paths):\n",
    "    nfiles = len(os.listdir(path))\n",
    "    files = ['%s%06d.jpg'%(path,i) for i in range(nfiles)]\n",
    "    res = np.zeros(shape=(nfiles,nFeatures)) \n",
    "    for i in tqdm(range(int(math.floor(len(files)/C.batchSz))-1)):\n",
    "        batch = np.zeros(shape=(C.batchSz,C.imDim,C.imDim,3))\n",
    "        for j in range(C.batchSz):\n",
    "            batch[j,:] = plt.imread(files[i*C.batchSz+j]).astype('float32')/255.0\n",
    "        features = encoder.predict_on_batch(batch) \n",
    "        features = np.squeeze(features)\n",
    "        res[i*C.batchSz:(i+1)*C.batchSz,:] = np.hstack((features,\n",
    "                                                        positionDatas[idx][i*C.batchSz:(i+1)*C.batchSz,:],\n",
    "                                                        positionDatas[idx][i*C.batchSz+C.predictAhead:(i+1)*C.batchSz+C.predictAhead,:]))\n",
    "        \n",
    "    np.save(savePaths[idx],res)"
   ]
  }
 ],
 "metadata": {
  "kernelspec": {
   "display_name": "venv3",
   "language": "python",
   "name": "venv"
  },
  "language_info": {
   "codemirror_mode": {
    "name": "ipython",
    "version": 2
   },
   "file_extension": ".py",
   "mimetype": "text/x-python",
   "name": "python",
   "nbconvert_exporter": "python",
   "pygments_lexer": "ipython2",
   "version": "2.7.6"
  }
 },
 "nbformat": 4,
 "nbformat_minor": 1
}
