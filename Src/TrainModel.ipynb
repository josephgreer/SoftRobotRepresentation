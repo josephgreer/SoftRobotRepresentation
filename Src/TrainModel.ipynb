{
 "cells": [
  {
   "cell_type": "code",
   "execution_count": 2,
   "metadata": {
    "collapsed": false
   },
   "outputs": [],
   "source": [
    "%matplotlib inline"
   ]
  },
  {
   "cell_type": "code",
   "execution_count": 17,
   "metadata": {
    "collapsed": false
   },
   "outputs": [
    {
     "name": "stdout",
     "output_type": "stream",
     "text": [
      "____________________________________________________________________________________________________\n",
      "Layer (type)                     Output Shape          Param #     Connected to                     \n",
      "====================================================================================================\n",
      "input_12 (InputLayer)            (None, 256, 256, 3)   0                                            \n",
      "____________________________________________________________________________________________________\n",
      "convolution2d_60 (Convolution2D) (None, 128, 128, 64)  3136        input_12[0][0]                   \n",
      "____________________________________________________________________________________________________\n",
      "batchnormalization_51 (BatchNorma(None, 128, 128, 64)  128         convolution2d_60[0][0]           \n",
      "____________________________________________________________________________________________________\n",
      "leakyrelu_51 (LeakyReLU)         (None, 128, 128, 64)  0           batchnormalization_51[0][0]      \n",
      "____________________________________________________________________________________________________\n",
      "convolution2d_61 (Convolution2D) (None, 64, 64, 64)    65600       leakyrelu_51[0][0]               \n",
      "____________________________________________________________________________________________________\n",
      "batchnormalization_52 (BatchNorma(None, 64, 64, 64)    128         convolution2d_61[0][0]           \n",
      "____________________________________________________________________________________________________\n",
      "leakyrelu_52 (LeakyReLU)         (None, 64, 64, 64)    0           batchnormalization_52[0][0]      \n",
      "____________________________________________________________________________________________________\n",
      "convolution2d_62 (Convolution2D) (None, 32, 32, 64)    65600       leakyrelu_52[0][0]               \n",
      "____________________________________________________________________________________________________\n",
      "batchnormalization_53 (BatchNorma(None, 32, 32, 64)    128         convolution2d_62[0][0]           \n",
      "____________________________________________________________________________________________________\n",
      "leakyrelu_53 (LeakyReLU)         (None, 32, 32, 64)    0           batchnormalization_53[0][0]      \n",
      "____________________________________________________________________________________________________\n",
      "convolution2d_63 (Convolution2D) (None, 16, 16, 128)   131200      leakyrelu_53[0][0]               \n",
      "____________________________________________________________________________________________________\n",
      "batchnormalization_54 (BatchNorma(None, 16, 16, 128)   256         convolution2d_63[0][0]           \n",
      "____________________________________________________________________________________________________\n",
      "leakyrelu_54 (LeakyReLU)         (None, 16, 16, 128)   0           batchnormalization_54[0][0]      \n",
      "____________________________________________________________________________________________________\n",
      "convolution2d_64 (Convolution2D) (None, 8, 8, 256)     524544      leakyrelu_54[0][0]               \n",
      "____________________________________________________________________________________________________\n",
      "batchnormalization_55 (BatchNorma(None, 8, 8, 256)     512         convolution2d_64[0][0]           \n",
      "____________________________________________________________________________________________________\n",
      "leakyrelu_55 (LeakyReLU)         (None, 8, 8, 256)     0           batchnormalization_55[0][0]      \n",
      "____________________________________________________________________________________________________\n",
      "convolution2d_65 (Convolution2D) (None, 4, 4, 512)     2097664     leakyrelu_55[0][0]               \n",
      "____________________________________________________________________________________________________\n",
      "batchnormalization_56 (BatchNorma(None, 4, 4, 512)     1024        convolution2d_65[0][0]           \n",
      "____________________________________________________________________________________________________\n",
      "leakyrelu_56 (LeakyReLU)         (None, 4, 4, 512)     0           batchnormalization_56[0][0]      \n",
      "____________________________________________________________________________________________________\n",
      "convolution2d_66 (Convolution2D) (None, 1, 1, 2000)    16386000    leakyrelu_56[0][0]               \n",
      "====================================================================================================\n",
      "Total params: 19275920\n",
      "____________________________________________________________________________________________________\n"
     ]
    }
   ],
   "source": [
    "from keras.layers import merge, Convolution2D, MaxPooling2D, Input, Dense, Flatten, BatchNormalization, LeakyReLU\n",
    "from keras.models import Model\n",
    "\n",
    "nBottleneck = 2000\n",
    "\n",
    "# first, define the encoder\n",
    "inputs = Input(shape=(256, 256, 3))\n",
    "\n",
    "# 256 x 256 input\n",
    "x = Convolution2D(64, 4, 4, subsample=(2, 2), border_mode='same', dim_ordering='tf')(inputs)\n",
    "x = BatchNormalization(mode=2)(x)\n",
    "x = LeakyReLU(alpha=0.2)(x)\n",
    "\n",
    "# 128 x 128 input\n",
    "x = Convolution2D(64, 4, 4, subsample=(2, 2), border_mode='same', dim_ordering='tf')(x)\n",
    "x = BatchNormalization(mode=2)(x)\n",
    "x = LeakyReLU(alpha=0.2)(x)\n",
    "\n",
    "# 64 x 64 input\n",
    "x = Convolution2D(64, 4, 4, subsample=(2, 2), border_mode='same', dim_ordering='tf')(x)\n",
    "x = BatchNormalization(mode=2)(x)\n",
    "x = LeakyReLU(alpha=0.2)(x)\n",
    "\n",
    "# 32 x 32 input\n",
    "x = Convolution2D(128, 4, 4, subsample=(2, 2), border_mode='same', dim_ordering='tf')(x)\n",
    "x = BatchNormalization(mode=2)(x)\n",
    "x = LeakyReLU(alpha=0.2)(x)\n",
    "\n",
    "# 16 x 16 input\n",
    "x = Convolution2D(256, 4, 4, subsample=(2, 2), border_mode='same', dim_ordering='tf')(x)\n",
    "x = BatchNormalization(mode=2)(x)\n",
    "x = LeakyReLU(alpha=0.2)(x)\n",
    "\n",
    "# 8 x 8 input\n",
    "x = Convolution2D(512, 4, 4, subsample=(2, 2), border_mode='same', dim_ordering='tf')(x)\n",
    "x = BatchNormalization(mode=2)(x)\n",
    "x = LeakyReLU(alpha=0.2)(x)\n",
    "\n",
    "# 4 x 4 input\n",
    "encodedFeatures = Convolution2D(nBottleneck, 4, 4, subsample=(2, 2), border_mode='valid', dim_ordering='tf')(x)\n",
    "\n",
    "encoder_model = Model(inputs, encodedFeatures)\n",
    "encoder_model.summary()\n",
    "\n",
    "# # then define the tell-digits-apart model\n",
    "# digit_a = Input(shape=(1, 27, 27))\n",
    "# digit_b = Input(shape=(1, 27, 27))\n",
    "\n",
    "# # the vision model will be shared, weights and all\n",
    "# out_a = vision_model(digit_a)\n",
    "# out_b = vision_model(digit_b)\n",
    "\n",
    "# concatenated = merge([out_a, out_b], mode='concat')\n",
    "# out = Dense(1, activation='sigmoid')(concatenated)\n",
    "\n",
    "# classification_model = Model([digit_a, digit_b], out)"
   ]
  }
 ],
 "metadata": {
  "kernelspec": {
   "display_name": "venv3",
   "language": "python",
   "name": "venv"
  },
  "language_info": {
   "codemirror_mode": {
    "name": "ipython",
    "version": 2
   },
   "file_extension": ".py",
   "mimetype": "text/x-python",
   "name": "python",
   "nbconvert_exporter": "python",
   "pygments_lexer": "ipython2",
   "version": "2.7.6"
  }
 },
 "nbformat": 4,
 "nbformat_minor": 1
}
