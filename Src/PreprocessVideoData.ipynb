{
 "cells": [
  {
   "cell_type": "code",
   "execution_count": 1,
   "metadata": {
    "collapsed": false
   },
   "outputs": [
    {
     "data": {
      "text/plain": [
       "['  Duration: 00:17:48.90, start: 0.000000, bitrate: 1196 kb/s\\n']"
      ]
     },
     "execution_count": 1,
     "metadata": {},
     "output_type": "execute_result"
    }
   ],
   "source": [
    "## We don't want to output too many images to one directory, so we're going to first figure out the length\n",
    "\n",
    "import subprocess\n",
    "\n",
    "def getLength(filename):\n",
    "  result = subprocess.Popen([\"ffprobe\", filename],\n",
    "    stdout = subprocess.PIPE, stderr = subprocess.STDOUT)\n",
    "  return [x for x in result.stdout.readlines() if \"Duration\" in x]\n",
    "\n",
    "getLength(\"/home/ubuntu/SoftRobotRepresentation/Data/recording1.mp4\")"
   ]
  },
  {
   "cell_type": "code",
   "execution_count": null,
   "metadata": {
    "collapsed": true
   },
   "outputs": [],
   "source": []
  }
 ],
 "metadata": {
  "kernelspec": {
   "display_name": "venv3",
   "language": "python",
   "name": "venv"
  },
  "language_info": {
   "codemirror_mode": {
    "name": "ipython",
    "version": 2
   },
   "file_extension": ".py",
   "mimetype": "text/x-python",
   "name": "python",
   "nbconvert_exporter": "python",
   "pygments_lexer": "ipython2",
   "version": "2.7.6"
  }
 },
 "nbformat": 4,
 "nbformat_minor": 1
}
